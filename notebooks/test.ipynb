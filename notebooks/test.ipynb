{
 "cells": [
  {
   "cell_type": "code",
   "execution_count": 2,
   "metadata": {
    "vscode": {
     "languageId": "rust"
    }
   },
   "outputs": [],
   "source": [
    ":dep backend = { path = \"../backend\" }\n",
    ":dep rayon\n",
    "use backend::simulation::simulate;\n",
    "use rayon::prelude::*;\n",
    "use std::sync::{Arc, Mutex, RwLock};"
   ]
  },
  {
   "cell_type": "code",
   "execution_count": 26,
   "metadata": {
    "vscode": {
     "languageId": "rust"
    }
   },
   "outputs": [
    {
     "name": "stdout",
     "output_type": "stream",
     "text": [
      "23, 6, 1\n"
     ]
    },
    {
     "data": {
      "text/plain": [
       "()"
      ]
     },
     "execution_count": 26,
     "metadata": {},
     "output_type": "execute_result"
    }
   ],
   "source": [
    "let (pulls, constellation, refinement) = simulate(\n",
    "    700, // input_pulls\n",
    "    66, // input_pity_character\n",
    "    0, // input_capturing_radiance\n",
    "    false, // input_focus_character\n",
    "    20, // input_pity_weapon\n",
    "    false, // input_epitomized_path\n",
    "    false, // input_focus_weapon\n",
    "    0, // input_constellation\n",
    "    0, // input_refinement\n",
    "    6, // wanted_constellation\n",
    "    1, // wanted_refinement\n",
    ");\n",
    "println!(\"{pulls}, {constellation}, {refinement}\")"
   ]
  },
  {
   "cell_type": "code",
   "execution_count": 5,
   "metadata": {
    "vscode": {
     "languageId": "rust"
    }
   },
   "outputs": [
    {
     "name": "stdout",
     "output_type": "stream",
     "text": [
      "0.603594\n"
     ]
    }
   ],
   "source": [
    "let nb_simulation = 1_000_000;\n",
    "let res = Arc::new(Mutex::new(0_f64));\n",
    "(0..nb_simulation).into_par_iter().for_each(|_|\n",
    "    {\n",
    "        let (pulls, _, _) = simulate(\n",
    "            700, // input_pulls\n",
    "            66, // input_pity_character\n",
    "            0, // input_capturing_radiance\n",
    "            false, // input_focus_character\n",
    "            20, // input_pity_weapon\n",
    "            false, // input_epitomized_path\n",
    "            false, // input_focus_weapon\n",
    "            -1, // input_constellation\n",
    "            0, // input_refinement\n",
    "            6, // wanted_constellation\n",
    "            1, // wanted_refinement\n",
    "        );\n",
    "        if pulls > 0 {\n",
    "            let mut res_lock = res.lock().unwrap();\n",
    "            *res_lock += 1.0;\n",
    "        }\n",
    "    }\n",
    ");\n",
    "let res = *res.lock().unwrap();\n",
    "let final_result = res / nb_simulation as f64;\n",
    "println!(\"{final_result}\");"
   ]
  }
 ],
 "metadata": {
  "kernelspec": {
   "display_name": "Rust",
   "language": "rust",
   "name": "rust"
  },
  "language_info": {
   "codemirror_mode": "rust",
   "file_extension": ".rs",
   "mimetype": "text/rust",
   "name": "Rust",
   "pygment_lexer": "rust",
   "version": ""
  }
 },
 "nbformat": 4,
 "nbformat_minor": 2
}
